{
 "cells": [
  {
   "cell_type": "code",
   "execution_count": null,
   "metadata": {},
   "outputs": [],
   "source": [
    "# Configure the parameters of the main script\n",
    "'''The main script is HippoProcess/run.py, it includes:\n",
    "Hippocampal Segmentation, meshing and registration. You\n",
    "only need to modifiy lines of 7~9:\n",
    "(1) The script is customized for batch processing in the server,\n",
    "    you can set the amount of processes for MRI processing.\n",
    "(2) Set the inputpath including ‘*nii’ files\n",
    "(3) Set the outpath for hippocampal mesh files \n",
    "'''"
   ]
  },
  {
   "cell_type": "code",
   "execution_count": null,
   "metadata": {},
   "outputs": [],
   "source": [
    "# Configure the batch script to execute the scripts, then excute 'python run.py'\n",
    "'''HippoProcess/template.sh includes the key parameters to access the server, you only need to\n",
    "input your email address, if necessary, the server will send you some info about your running.\n",
    "#!/bin/bash\n",
    "#SBATCH -n 1                        # number of cores\n",
    "#SBATCH -t 0-12:00                  # wall time (D-HH:MM)\n",
    "##SBATCH -A drzuckerman             # Account hours will be pulled from (commented out with double # in front)\n",
    "#SBATCH -o slurm.%j.out             # STDOUT (%j = JobId)\n",
    "#SBATCH -e slurm.%j.err             # STDERR (%j = JobId)\n",
    "#SBATCH --mail-user=qdong17@asu.edu # send-to address'''"
   ]
  },
  {
   "cell_type": "code",
   "execution_count": null,
   "metadata": {},
   "outputs": [],
   "source": [
    "'''[Optional] If you want to learn about the process of your work, you can load the link: \n",
    "https://rcstatus.asu.edu/saguaro/jobs.php?jobtype=running'''"
   ]
  },
  {
   "cell_type": "code",
   "execution_count": null,
   "metadata": {},
   "outputs": [],
   "source": [
    "# Inspect the hippocampus mesh results\n",
    "'''(1) Firstly generate snapshots of left and right hippocampus, you can drag any mesh file of the above results to 'G3dOGL',\n",
    "       and adjust the suitable angle and use command '>' to get one *.s3d file, rename it as 'rh.s3d' or 'lh.s3d'\n",
    "   (2) 'run_snap.pl' is the main batch script for snapshot, its content is as following, it will call 'snapshot_new.bat' to \n",
    "        generate figs\n",
    "   (3) By observing snapshots of the generated mesh files, you can reject data with bad quality'''\n",
    "\n",
    "#set directory of input and output folder\n",
    "$outputfolder=\"C:\\\\snapshot\\\\snapshot\\\\outfigs\";\n",
    "$inputfolder=\"C:\\\\snapshot\\\\snapshot\\\\outfiles_rb\";\n",
    "#$s2dfiledirectory=\"C:\\\\snapshot\\\\snapshot\\\\l.s3d\";\n",
    "@files = glob \"$inputfolder\\\\*.m\";\n",
    "foreach(@files)\n",
    "{\n",
    "    chomp;\n",
    "    @p = split /\\./, $_;\n",
    "    @q = split /\\\\/, $_;\n",
    "        $s2dfiledirectory = (index($q[-1], 'LH') != -1)? \"C:\\\\snapshot\\\\snapshot\\\\l.s3d\" : \"C:\\\\snapshot\\\\snapshot\\\\r.s3d\";\n",
    "    $cmd = \"snapshot_new.bat \" . $p[0] . \" $outputfolder\\\\\" . $q[-1] . \" $s2dfiledirectory\";\n",
    "    system($cmd);\n",
    "};"
   ]
  },
  {
   "cell_type": "code",
   "execution_count": null,
   "metadata": {},
   "outputs": [],
   "source": [
    "# Logitudinal analysis of mesh files, the following script is to make differences betweeen Scan1 and Scan2\n",
    "import xlrd,glob, os\n",
    "import subprocess\n",
    "do_copy = True\n",
    "sc = ['SCAN_1','SCAN_2']\n",
    "hs = ['L','R']\n",
    "exe_path = 'O:\\\\s1_s2\\\\SurfStat.exe'\n",
    "if do_copy:\n",
    "    \n",
    "    file_location = \"O:\\\\New_HP_final\\\\0-all.xls\"\n",
    "    #fn_eval = 'O:\\\\s1_s2\\\\eval.txt'\n",
    "    workbook = xlrd.open_workbook(file_location)\n",
    "    sheet = workbook.sheet_by_name('Sheet1')\n",
    "    x = []\n",
    "    for cell in sheet.col(0):\n",
    "        for h in hs:\n",
    "            FNULL = open(os.devnull, 'w') \n",
    "            path_m1 = glob.glob('O:\\\\Data\\\\HP\\\\Final_HP\\\\%s\\\\%s\\\\%s*' %(sc[0], h, cell.value))[0]\n",
    "            path_m2 = glob.glob('O:\\\\Data\\\\HP\\\\Final_HP\\\\%s\\\\%s\\\\%s*' %(sc[1], h, cell.value))[0]\n",
    "            output_m = 'O:\\\\Data\\\\HP\\\\Final_HP\\\\SCAN1-2\\\\%s\\\\%s_%s_s1-2.m' %(h,cell.value, h)\n",
    "            args = exe_path + ' -TwoTDiff %s %s %s' %(path_m1, path_m2, output_m)\n",
    "            #with open(fn_eval, \"a\") as f:\n",
    "             #   f.write('%s\\n' %args)\n",
    "            subprocess.call(args, stdout=FNULL, stderr=FNULL, shell=False)"
   ]
  },
  {
   "cell_type": "code",
   "execution_count": null,
   "metadata": {},
   "outputs": [],
   "source": [
    "# Make group comaprisons between genotype groups, you need to prepare several '*。xls' files\n",
    "# which include group info of each subject，than we can make comparisons using the following command.\n",
    "python /scratch/qdong17/HippoProcess/HippoUCF/Rainier/UCFGroupDifference/callMMADMTBMGrpDiff.py /scratch/qdong17/Final_HP/exp3/0-1.xls /scratch/qdong17/Final_HP/SCAN1-2/R/ /scratch/qdong17/Final_HP/result/r/s1-2_0-1/ 20000 0.05 grp0 grp1 MADMTBM\n",
    "\n",
    "\n",
    "# Then you can snapshot the p-maps of different comparisons, using 'G3dOGL.exe'"
   ]
  }
 ],
 "metadata": {
  "kernelspec": {
   "display_name": "Python 2",
   "language": "python",
   "name": "python2"
  },
  "language_info": {
   "codemirror_mode": {
    "name": "ipython",
    "version": 2
   },
   "file_extension": ".py",
   "mimetype": "text/x-python",
   "name": "python",
   "nbconvert_exporter": "python",
   "pygments_lexer": "ipython2",
   "version": "2.7.15"
  }
 },
 "nbformat": 4,
 "nbformat_minor": 2
}
